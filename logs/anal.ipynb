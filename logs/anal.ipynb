{
 "cells": [
  {
   "cell_type": "code",
   "execution_count": null,
   "metadata": {},
   "outputs": [],
   "source": [
    "import pickle\n",
    "import datasets\n",
    "# ファイルパスを指定\n",
    "file_path = 'elo_results.pkl'\n",
    "\n",
    "# 'rb'は「バイナリ読み込みモード」を意味します\n",
    "with open(file_path, 'rb') as file:\n",
    "    # pickleを使用してファイルの内容を読み込む\n",
    "    data = pickle.load(file)\n",
    "\n",
    "# 読み込んだデータを表示\n",
    "print(data)"
   ]
  },
  {
   "cell_type": "code",
   "execution_count": null,
   "metadata": {},
   "outputs": [],
   "source": [
    "\n",
    "data[\"full\"][\"elo_rating_final\"]"
   ]
  },
  {
   "cell_type": "code",
   "execution_count": null,
   "metadata": {},
   "outputs": [],
   "source": [
    "import pandas as pd\n",
    "df=pd.DataFrame(data[\"full\"][\"elo_rating_final\"])\n",
    "df.columns=[\"elo_rating\"]\n",
    "df"
   ]
  },
  {
   "cell_type": "code",
   "execution_count": null,
   "metadata": {},
   "outputs": [],
   "source": [
    "\n",
    "ds=datasets.Dataset.from_pandas(df)\n",
    "ds.push_to_hub(\"kanhatakeyama/chatbot-arena-ja-elo-rating\")"
   ]
  },
  {
   "cell_type": "code",
   "execution_count": 4,
   "metadata": {},
   "outputs": [],
   "source": [
    "df2=data[\"full\"][\"leaderboard_table_df\"]\n",
    "df2=df2.sort_values(\"rating\",ascending=False)\n",
    "#ds2=datasets.Dataset.from_pandas(df2)\n",
    "#ds2.push_to_hub(\"kanhatakeyama/chatbot-arena-ja-elo-rating\")"
   ]
  },
  {
   "cell_type": "code",
   "execution_count": null,
   "metadata": {},
   "outputs": [],
   "source": []
  },
  {
   "cell_type": "code",
   "execution_count": null,
   "metadata": {},
   "outputs": [],
   "source": [
    "df2[df2[\"num_battles\"]>10]"
   ]
  },
  {
   "cell_type": "code",
   "execution_count": null,
   "metadata": {},
   "outputs": [],
   "source": []
  }
 ],
 "metadata": {
  "kernelspec": {
   "display_name": "llmeval",
   "language": "python",
   "name": "python3"
  },
  "language_info": {
   "codemirror_mode": {
    "name": "ipython",
    "version": 3
   },
   "file_extension": ".py",
   "mimetype": "text/x-python",
   "name": "python",
   "nbconvert_exporter": "python",
   "pygments_lexer": "ipython3",
   "version": "3.11.8"
  }
 },
 "nbformat": 4,
 "nbformat_minor": 2
}
